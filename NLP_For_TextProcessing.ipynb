{
 "cells": [
  {
   "cell_type": "code",
   "execution_count": 1,
   "id": "3b8fbd3e",
   "metadata": {},
   "outputs": [],
   "source": [
    "import pandas as pd\n",
    "import numpy as np\n",
    "import nltk"
   ]
  },
  {
   "cell_type": "code",
   "execution_count": 2,
   "id": "9d77c7ae",
   "metadata": {},
   "outputs": [],
   "source": [
    "with open('/Users/vamcchekuri/Desktop/news article.txt', 'r') as file:\n",
    "    txt_file = file.read()"
   ]
  },
  {
   "cell_type": "code",
   "execution_count": 3,
   "id": "c552cde0",
   "metadata": {},
   "outputs": [
    {
     "data": {
      "text/plain": [
       "'Anglo-French Channel Tunnel operator Eurotunnel Monday announced a deal giving its creditor banks 45.5 percent of the company in return for wiping out one billion pounds ($1.56 billion) of its debt.\\nThe long-awaited restructuring brings to an end months of wrangling between Eurotunnel and the 225 banks to which it owes nearly nine billion pounds ($14.1 billion).\\nThe deal, announced simultaneously in Paris and London, brings the company back from the brink of insolvency but leaves shareholders owning only 54.5 percent of the company.\\n\"The restructuring plan provides Eurotunnel with the medium-term financial stability to allow it to consolidate its substantial commercial achievements to date and to develop its operations,\" Eurotunnel co-chairman Alastair Morton said.\\nThe firm was now making a profit before interest, he added.\\nAlthough shareholders will see their interests diluted, they were offered the prospect of a brighter future after months of uncertainty while Eurotunnel wrestled to reduce crippling interest payments negotiated during the tunnel\\'s construction.\\nEurotunnel, which has taken around half the cross-Channel market from the European ferry companies, said a strong operating performance could allow it to pay its first dividend within the next 10 years.\\nFrench co-chairman Patrick Ponsolle said shareholders would have to be patient before they could reap the benefits of the company\\'s success.\\nHe called the debt restructuring plan \"an acceptable compromise\" for holders of Eurotunnel shares.\\nThe company said there was still considerable work to be done to finalise and agree on the details of the plan before it can be submitted to shareholders and the full 225 bank syndicate for approval, probably early in 1997.\\nMonday\\'s announcement followed two weeks of highly secretive negotiations between Eurotunnel and its six leading banks. This was extended to the 24 \"instructing banks\" at a meeting late last week in London.\\nEurotunnel said the debt-for-equity swap would be at 130 pence, or 10.40 francs, per share. That is considerably below the level of around 160 pence widely reported before announcement of the deal, and will reduce outstanding debt of 8.7 billion pounds ($13.6 billion) by 1.0 billion ($1.56 billion).\\nThe company said a further 3.7 billion pounds ($5.8 billion) of debt would be converted into new financial instruments and existing shareholders would be able to participate in this issue.\\nIf they choose not to take up free warrants entitling them to subscribe to this, Eurotunnel said shareholders\\' interests may be reduced further to just over 39 percent of the company by the end of December 2003.\\nEurotunnel\\'s shares, which were suspended last week at 113.5 pence ahead of Monday\\'s announcement, should resume trading on Tuesday, the company said.\\n'"
      ]
     },
     "execution_count": 3,
     "metadata": {},
     "output_type": "execute_result"
    }
   ],
   "source": [
    "txt_file"
   ]
  },
  {
   "cell_type": "code",
   "execution_count": 4,
   "id": "26a4aafd",
   "metadata": {},
   "outputs": [],
   "source": [
    "from nltk.tokenize import sent_tokenize, word_tokenize"
   ]
  },
  {
   "cell_type": "code",
   "execution_count": 5,
   "id": "62a7a85e",
   "metadata": {},
   "outputs": [],
   "source": [
    "# Detect sentences\n",
    "sentences = []\n",
    "for sentence in sent_tokenize(txt_file):\n",
    "    sentences.append(sentence)"
   ]
  },
  {
   "cell_type": "code",
   "execution_count": 6,
   "id": "ef76458f",
   "metadata": {},
   "outputs": [
    {
     "name": "stdout",
     "output_type": "stream",
     "text": [
      "SENTENCES:\n",
      "1. Anglo-French Channel Tunnel operator Eurotunnel Monday announced a deal giving its creditor banks 45.5 percent of the company in return for wiping out one billion pounds ($1.56 billion) of its debt.\n",
      "2. The long-awaited restructuring brings to an end months of wrangling between Eurotunnel and the 225 banks to which it owes nearly nine billion pounds ($14.1 billion).\n",
      "3. The deal, announced simultaneously in Paris and London, brings the company back from the brink of insolvency but leaves shareholders owning only 54.5 percent of the company.\n",
      "4. \"The restructuring plan provides Eurotunnel with the medium-term financial stability to allow it to consolidate its substantial commercial achievements to date and to develop its operations,\" Eurotunnel co-chairman Alastair Morton said.\n",
      "5. The firm was now making a profit before interest, he added.\n",
      "6. Although shareholders will see their interests diluted, they were offered the prospect of a brighter future after months of uncertainty while Eurotunnel wrestled to reduce crippling interest payments negotiated during the tunnel's construction.\n",
      "7. Eurotunnel, which has taken around half the cross-Channel market from the European ferry companies, said a strong operating performance could allow it to pay its first dividend within the next 10 years.\n",
      "8. French co-chairman Patrick Ponsolle said shareholders would have to be patient before they could reap the benefits of the company's success.\n",
      "9. He called the debt restructuring plan \"an acceptable compromise\" for holders of Eurotunnel shares.\n",
      "10. The company said there was still considerable work to be done to finalise and agree on the details of the plan before it can be submitted to shareholders and the full 225 bank syndicate for approval, probably early in 1997.\n",
      "11. Monday's announcement followed two weeks of highly secretive negotiations between Eurotunnel and its six leading banks.\n",
      "12. This was extended to the 24 \"instructing banks\" at a meeting late last week in London.\n",
      "13. Eurotunnel said the debt-for-equity swap would be at 130 pence, or 10.40 francs, per share.\n",
      "14. That is considerably below the level of around 160 pence widely reported before announcement of the deal, and will reduce outstanding debt of 8.7 billion pounds ($13.6 billion) by 1.0 billion ($1.56 billion).\n",
      "15. The company said a further 3.7 billion pounds ($5.8 billion) of debt would be converted into new financial instruments and existing shareholders would be able to participate in this issue.\n",
      "16. If they choose not to take up free warrants entitling them to subscribe to this, Eurotunnel said shareholders' interests may be reduced further to just over 39 percent of the company by the end of December 2003.\n",
      "17. Eurotunnel's shares, which were suspended last week at 113.5 pence ahead of Monday's announcement, should resume trading on Tuesday, the company said.\n"
     ]
    }
   ],
   "source": [
    "print(\"SENTENCES:\")\n",
    "for i, sentence in enumerate(sentences, 1):\n",
    "    print(f\"{i}. {sentence}\")"
   ]
  },
  {
   "cell_type": "code",
   "execution_count": 7,
   "id": "96a805a2",
   "metadata": {},
   "outputs": [],
   "source": [
    "tokenized_sentences = []\n",
    "for sentence in sentences:\n",
    "    tokens = word_tokenize(sentence)\n",
    "    tokenized_sentences.append(tokens)"
   ]
  },
  {
   "cell_type": "code",
   "execution_count": 8,
   "id": "f107299e",
   "metadata": {},
   "outputs": [
    {
     "name": "stdout",
     "output_type": "stream",
     "text": [
      "SENTENCE: Anglo-French Channel Tunnel operator Eurotunnel Monday announced a deal giving its creditor banks 45.5 percent of the company in return for wiping out one billion pounds ($1.56 billion) of its debt.\n",
      "TOKENS: ['Anglo-French', 'Channel', 'Tunnel', 'operator', 'Eurotunnel', 'Monday', 'announced', 'a', 'deal', 'giving', 'its', 'creditor', 'banks', '45.5', 'percent', 'of', 'the', 'company', 'in', 'return', 'for', 'wiping', 'out', 'one', 'billion', 'pounds', '(', '$', '1.56', 'billion', ')', 'of', 'its', 'debt', '.']\n",
      "SENTENCE: The long-awaited restructuring brings to an end months of wrangling between Eurotunnel and the 225 banks to which it owes nearly nine billion pounds ($14.1 billion).\n",
      "TOKENS: ['The', 'long-awaited', 'restructuring', 'brings', 'to', 'an', 'end', 'months', 'of', 'wrangling', 'between', 'Eurotunnel', 'and', 'the', '225', 'banks', 'to', 'which', 'it', 'owes', 'nearly', 'nine', 'billion', 'pounds', '(', '$', '14.1', 'billion', ')', '.']\n",
      "SENTENCE: The deal, announced simultaneously in Paris and London, brings the company back from the brink of insolvency but leaves shareholders owning only 54.5 percent of the company.\n",
      "TOKENS: ['The', 'deal', ',', 'announced', 'simultaneously', 'in', 'Paris', 'and', 'London', ',', 'brings', 'the', 'company', 'back', 'from', 'the', 'brink', 'of', 'insolvency', 'but', 'leaves', 'shareholders', 'owning', 'only', '54.5', 'percent', 'of', 'the', 'company', '.']\n",
      "SENTENCE: \"The restructuring plan provides Eurotunnel with the medium-term financial stability to allow it to consolidate its substantial commercial achievements to date and to develop its operations,\" Eurotunnel co-chairman Alastair Morton said.\n",
      "TOKENS: ['``', 'The', 'restructuring', 'plan', 'provides', 'Eurotunnel', 'with', 'the', 'medium-term', 'financial', 'stability', 'to', 'allow', 'it', 'to', 'consolidate', 'its', 'substantial', 'commercial', 'achievements', 'to', 'date', 'and', 'to', 'develop', 'its', 'operations', ',', \"''\", 'Eurotunnel', 'co-chairman', 'Alastair', 'Morton', 'said', '.']\n",
      "SENTENCE: The firm was now making a profit before interest, he added.\n",
      "TOKENS: ['The', 'firm', 'was', 'now', 'making', 'a', 'profit', 'before', 'interest', ',', 'he', 'added', '.']\n",
      "SENTENCE: Although shareholders will see their interests diluted, they were offered the prospect of a brighter future after months of uncertainty while Eurotunnel wrestled to reduce crippling interest payments negotiated during the tunnel's construction.\n",
      "TOKENS: ['Although', 'shareholders', 'will', 'see', 'their', 'interests', 'diluted', ',', 'they', 'were', 'offered', 'the', 'prospect', 'of', 'a', 'brighter', 'future', 'after', 'months', 'of', 'uncertainty', 'while', 'Eurotunnel', 'wrestled', 'to', 'reduce', 'crippling', 'interest', 'payments', 'negotiated', 'during', 'the', 'tunnel', \"'s\", 'construction', '.']\n",
      "SENTENCE: Eurotunnel, which has taken around half the cross-Channel market from the European ferry companies, said a strong operating performance could allow it to pay its first dividend within the next 10 years.\n",
      "TOKENS: ['Eurotunnel', ',', 'which', 'has', 'taken', 'around', 'half', 'the', 'cross-Channel', 'market', 'from', 'the', 'European', 'ferry', 'companies', ',', 'said', 'a', 'strong', 'operating', 'performance', 'could', 'allow', 'it', 'to', 'pay', 'its', 'first', 'dividend', 'within', 'the', 'next', '10', 'years', '.']\n",
      "SENTENCE: French co-chairman Patrick Ponsolle said shareholders would have to be patient before they could reap the benefits of the company's success.\n",
      "TOKENS: ['French', 'co-chairman', 'Patrick', 'Ponsolle', 'said', 'shareholders', 'would', 'have', 'to', 'be', 'patient', 'before', 'they', 'could', 'reap', 'the', 'benefits', 'of', 'the', 'company', \"'s\", 'success', '.']\n",
      "SENTENCE: He called the debt restructuring plan \"an acceptable compromise\" for holders of Eurotunnel shares.\n",
      "TOKENS: ['He', 'called', 'the', 'debt', 'restructuring', 'plan', '``', 'an', 'acceptable', 'compromise', \"''\", 'for', 'holders', 'of', 'Eurotunnel', 'shares', '.']\n",
      "SENTENCE: The company said there was still considerable work to be done to finalise and agree on the details of the plan before it can be submitted to shareholders and the full 225 bank syndicate for approval, probably early in 1997.\n",
      "TOKENS: ['The', 'company', 'said', 'there', 'was', 'still', 'considerable', 'work', 'to', 'be', 'done', 'to', 'finalise', 'and', 'agree', 'on', 'the', 'details', 'of', 'the', 'plan', 'before', 'it', 'can', 'be', 'submitted', 'to', 'shareholders', 'and', 'the', 'full', '225', 'bank', 'syndicate', 'for', 'approval', ',', 'probably', 'early', 'in', '1997', '.']\n",
      "SENTENCE: Monday's announcement followed two weeks of highly secretive negotiations between Eurotunnel and its six leading banks.\n",
      "TOKENS: ['Monday', \"'s\", 'announcement', 'followed', 'two', 'weeks', 'of', 'highly', 'secretive', 'negotiations', 'between', 'Eurotunnel', 'and', 'its', 'six', 'leading', 'banks', '.']\n",
      "SENTENCE: This was extended to the 24 \"instructing banks\" at a meeting late last week in London.\n",
      "TOKENS: ['This', 'was', 'extended', 'to', 'the', '24', '``', 'instructing', 'banks', \"''\", 'at', 'a', 'meeting', 'late', 'last', 'week', 'in', 'London', '.']\n",
      "SENTENCE: Eurotunnel said the debt-for-equity swap would be at 130 pence, or 10.40 francs, per share.\n",
      "TOKENS: ['Eurotunnel', 'said', 'the', 'debt-for-equity', 'swap', 'would', 'be', 'at', '130', 'pence', ',', 'or', '10.40', 'francs', ',', 'per', 'share', '.']\n",
      "SENTENCE: That is considerably below the level of around 160 pence widely reported before announcement of the deal, and will reduce outstanding debt of 8.7 billion pounds ($13.6 billion) by 1.0 billion ($1.56 billion).\n",
      "TOKENS: ['That', 'is', 'considerably', 'below', 'the', 'level', 'of', 'around', '160', 'pence', 'widely', 'reported', 'before', 'announcement', 'of', 'the', 'deal', ',', 'and', 'will', 'reduce', 'outstanding', 'debt', 'of', '8.7', 'billion', 'pounds', '(', '$', '13.6', 'billion', ')', 'by', '1.0', 'billion', '(', '$', '1.56', 'billion', ')', '.']\n",
      "SENTENCE: The company said a further 3.7 billion pounds ($5.8 billion) of debt would be converted into new financial instruments and existing shareholders would be able to participate in this issue.\n",
      "TOKENS: ['The', 'company', 'said', 'a', 'further', '3.7', 'billion', 'pounds', '(', '$', '5.8', 'billion', ')', 'of', 'debt', 'would', 'be', 'converted', 'into', 'new', 'financial', 'instruments', 'and', 'existing', 'shareholders', 'would', 'be', 'able', 'to', 'participate', 'in', 'this', 'issue', '.']\n",
      "SENTENCE: If they choose not to take up free warrants entitling them to subscribe to this, Eurotunnel said shareholders' interests may be reduced further to just over 39 percent of the company by the end of December 2003.\n",
      "TOKENS: ['If', 'they', 'choose', 'not', 'to', 'take', 'up', 'free', 'warrants', 'entitling', 'them', 'to', 'subscribe', 'to', 'this', ',', 'Eurotunnel', 'said', 'shareholders', \"'\", 'interests', 'may', 'be', 'reduced', 'further', 'to', 'just', 'over', '39', 'percent', 'of', 'the', 'company', 'by', 'the', 'end', 'of', 'December', '2003', '.']\n",
      "SENTENCE: Eurotunnel's shares, which were suspended last week at 113.5 pence ahead of Monday's announcement, should resume trading on Tuesday, the company said.\n",
      "TOKENS: ['Eurotunnel', \"'s\", 'shares', ',', 'which', 'were', 'suspended', 'last', 'week', 'at', '113.5', 'pence', 'ahead', 'of', 'Monday', \"'s\", 'announcement', ',', 'should', 'resume', 'trading', 'on', 'Tuesday', ',', 'the', 'company', 'said', '.']\n"
     ]
    }
   ],
   "source": [
    "for sentence, tokens in zip(sentences, tokenized_sentences):\n",
    "    print(\"SENTENCE:\", sentence)\n",
    "    print(\"TOKENS:\", tokens)"
   ]
  },
  {
   "cell_type": "code",
   "execution_count": 9,
   "id": "f7aabab2",
   "metadata": {},
   "outputs": [],
   "source": [
    "from nltk.tag import pos_tag"
   ]
  },
  {
   "cell_type": "code",
   "execution_count": 10,
   "id": "e0f07606",
   "metadata": {},
   "outputs": [],
   "source": [
    "pos_tags_sentences = []\n",
    "for tokens in tokenized_sentences:\n",
    "    pos_tags = pos_tag(tokens)\n",
    "    pos_tags_sentences.append(pos_tags)\n"
   ]
  },
  {
   "cell_type": "code",
   "execution_count": 11,
   "id": "91f90695",
   "metadata": {},
   "outputs": [
    {
     "name": "stdout",
     "output_type": "stream",
     "text": [
      "SENTENCE: Anglo-French Channel Tunnel operator Eurotunnel Monday announced a deal giving its creditor banks 45.5 percent of the company in return for wiping out one billion pounds ($1.56 billion) of its debt.\n",
      "POS_TAGS: [('Anglo-French', 'JJ'), ('Channel', 'NNP'), ('Tunnel', 'NNP'), ('operator', 'NN'), ('Eurotunnel', 'NNP'), ('Monday', 'NNP'), ('announced', 'VBD'), ('a', 'DT'), ('deal', 'NN'), ('giving', 'VBG'), ('its', 'PRP$'), ('creditor', 'NN'), ('banks', 'NNS'), ('45.5', 'CD'), ('percent', 'NN'), ('of', 'IN'), ('the', 'DT'), ('company', 'NN'), ('in', 'IN'), ('return', 'NN'), ('for', 'IN'), ('wiping', 'VBG'), ('out', 'RP'), ('one', 'CD'), ('billion', 'CD'), ('pounds', 'NNS'), ('(', '('), ('$', '$'), ('1.56', 'CD'), ('billion', 'CD'), (')', ')'), ('of', 'IN'), ('its', 'PRP$'), ('debt', 'NN'), ('.', '.')]\n",
      "SENTENCE: The long-awaited restructuring brings to an end months of wrangling between Eurotunnel and the 225 banks to which it owes nearly nine billion pounds ($14.1 billion).\n",
      "POS_TAGS: [('The', 'DT'), ('long-awaited', 'JJ'), ('restructuring', 'NN'), ('brings', 'NNS'), ('to', 'TO'), ('an', 'DT'), ('end', 'JJ'), ('months', 'NNS'), ('of', 'IN'), ('wrangling', 'VBG'), ('between', 'IN'), ('Eurotunnel', 'NNP'), ('and', 'CC'), ('the', 'DT'), ('225', 'CD'), ('banks', 'NNS'), ('to', 'TO'), ('which', 'WDT'), ('it', 'PRP'), ('owes', 'VBZ'), ('nearly', 'RB'), ('nine', 'CD'), ('billion', 'CD'), ('pounds', 'NNS'), ('(', '('), ('$', '$'), ('14.1', 'CD'), ('billion', 'CD'), (')', ')'), ('.', '.')]\n",
      "SENTENCE: The deal, announced simultaneously in Paris and London, brings the company back from the brink of insolvency but leaves shareholders owning only 54.5 percent of the company.\n",
      "POS_TAGS: [('The', 'DT'), ('deal', 'NN'), (',', ','), ('announced', 'VBD'), ('simultaneously', 'RB'), ('in', 'IN'), ('Paris', 'NNP'), ('and', 'CC'), ('London', 'NNP'), (',', ','), ('brings', 'VBZ'), ('the', 'DT'), ('company', 'NN'), ('back', 'RB'), ('from', 'IN'), ('the', 'DT'), ('brink', 'NN'), ('of', 'IN'), ('insolvency', 'NN'), ('but', 'CC'), ('leaves', 'VBZ'), ('shareholders', 'NNS'), ('owning', 'VBG'), ('only', 'RB'), ('54.5', 'CD'), ('percent', 'NN'), ('of', 'IN'), ('the', 'DT'), ('company', 'NN'), ('.', '.')]\n",
      "SENTENCE: \"The restructuring plan provides Eurotunnel with the medium-term financial stability to allow it to consolidate its substantial commercial achievements to date and to develop its operations,\" Eurotunnel co-chairman Alastair Morton said.\n",
      "POS_TAGS: [('``', '``'), ('The', 'DT'), ('restructuring', 'NN'), ('plan', 'NN'), ('provides', 'VBZ'), ('Eurotunnel', 'NNP'), ('with', 'IN'), ('the', 'DT'), ('medium-term', 'JJ'), ('financial', 'JJ'), ('stability', 'NN'), ('to', 'TO'), ('allow', 'VB'), ('it', 'PRP'), ('to', 'TO'), ('consolidate', 'VB'), ('its', 'PRP$'), ('substantial', 'JJ'), ('commercial', 'JJ'), ('achievements', 'NNS'), ('to', 'TO'), ('date', 'NN'), ('and', 'CC'), ('to', 'TO'), ('develop', 'VB'), ('its', 'PRP$'), ('operations', 'NNS'), (',', ','), (\"''\", \"''\"), ('Eurotunnel', 'NNP'), ('co-chairman', 'JJ'), ('Alastair', 'NNP'), ('Morton', 'NNP'), ('said', 'VBD'), ('.', '.')]\n",
      "SENTENCE: The firm was now making a profit before interest, he added.\n",
      "POS_TAGS: [('The', 'DT'), ('firm', 'NN'), ('was', 'VBD'), ('now', 'RB'), ('making', 'VBG'), ('a', 'DT'), ('profit', 'NN'), ('before', 'IN'), ('interest', 'NN'), (',', ','), ('he', 'PRP'), ('added', 'VBD'), ('.', '.')]\n",
      "SENTENCE: Although shareholders will see their interests diluted, they were offered the prospect of a brighter future after months of uncertainty while Eurotunnel wrestled to reduce crippling interest payments negotiated during the tunnel's construction.\n",
      "POS_TAGS: [('Although', 'IN'), ('shareholders', 'NNS'), ('will', 'MD'), ('see', 'VB'), ('their', 'PRP$'), ('interests', 'NNS'), ('diluted', 'VBN'), (',', ','), ('they', 'PRP'), ('were', 'VBD'), ('offered', 'VBN'), ('the', 'DT'), ('prospect', 'NN'), ('of', 'IN'), ('a', 'DT'), ('brighter', 'NN'), ('future', 'NN'), ('after', 'IN'), ('months', 'NNS'), ('of', 'IN'), ('uncertainty', 'NN'), ('while', 'IN'), ('Eurotunnel', 'NNP'), ('wrestled', 'VBD'), ('to', 'TO'), ('reduce', 'VB'), ('crippling', 'VBG'), ('interest', 'NN'), ('payments', 'NNS'), ('negotiated', 'VBN'), ('during', 'IN'), ('the', 'DT'), ('tunnel', 'NN'), (\"'s\", 'POS'), ('construction', 'NN'), ('.', '.')]\n",
      "SENTENCE: Eurotunnel, which has taken around half the cross-Channel market from the European ferry companies, said a strong operating performance could allow it to pay its first dividend within the next 10 years.\n",
      "POS_TAGS: [('Eurotunnel', 'NNP'), (',', ','), ('which', 'WDT'), ('has', 'VBZ'), ('taken', 'VBN'), ('around', 'IN'), ('half', 'PDT'), ('the', 'DT'), ('cross-Channel', 'JJ'), ('market', 'NN'), ('from', 'IN'), ('the', 'DT'), ('European', 'NNP'), ('ferry', 'NN'), ('companies', 'NNS'), (',', ','), ('said', 'VBD'), ('a', 'DT'), ('strong', 'JJ'), ('operating', 'NN'), ('performance', 'NN'), ('could', 'MD'), ('allow', 'VB'), ('it', 'PRP'), ('to', 'TO'), ('pay', 'VB'), ('its', 'PRP$'), ('first', 'JJ'), ('dividend', 'NN'), ('within', 'IN'), ('the', 'DT'), ('next', 'JJ'), ('10', 'CD'), ('years', 'NNS'), ('.', '.')]\n",
      "SENTENCE: French co-chairman Patrick Ponsolle said shareholders would have to be patient before they could reap the benefits of the company's success.\n",
      "POS_TAGS: [('French', 'JJ'), ('co-chairman', 'JJ'), ('Patrick', 'NNP'), ('Ponsolle', 'NNP'), ('said', 'VBD'), ('shareholders', 'NNS'), ('would', 'MD'), ('have', 'VB'), ('to', 'TO'), ('be', 'VB'), ('patient', 'JJ'), ('before', 'IN'), ('they', 'PRP'), ('could', 'MD'), ('reap', 'VB'), ('the', 'DT'), ('benefits', 'NNS'), ('of', 'IN'), ('the', 'DT'), ('company', 'NN'), (\"'s\", 'POS'), ('success', 'NN'), ('.', '.')]\n",
      "SENTENCE: He called the debt restructuring plan \"an acceptable compromise\" for holders of Eurotunnel shares.\n",
      "POS_TAGS: [('He', 'PRP'), ('called', 'VBD'), ('the', 'DT'), ('debt', 'NN'), ('restructuring', 'NN'), ('plan', 'NN'), ('``', '``'), ('an', 'DT'), ('acceptable', 'JJ'), ('compromise', 'NN'), (\"''\", \"''\"), ('for', 'IN'), ('holders', 'NNS'), ('of', 'IN'), ('Eurotunnel', 'NNP'), ('shares', 'NNS'), ('.', '.')]\n",
      "SENTENCE: The company said there was still considerable work to be done to finalise and agree on the details of the plan before it can be submitted to shareholders and the full 225 bank syndicate for approval, probably early in 1997.\n",
      "POS_TAGS: [('The', 'DT'), ('company', 'NN'), ('said', 'VBD'), ('there', 'EX'), ('was', 'VBD'), ('still', 'RB'), ('considerable', 'JJ'), ('work', 'NN'), ('to', 'TO'), ('be', 'VB'), ('done', 'VBN'), ('to', 'TO'), ('finalise', 'VB'), ('and', 'CC'), ('agree', 'VB'), ('on', 'IN'), ('the', 'DT'), ('details', 'NNS'), ('of', 'IN'), ('the', 'DT'), ('plan', 'NN'), ('before', 'IN'), ('it', 'PRP'), ('can', 'MD'), ('be', 'VB'), ('submitted', 'VBN'), ('to', 'TO'), ('shareholders', 'NNS'), ('and', 'CC'), ('the', 'DT'), ('full', 'JJ'), ('225', 'CD'), ('bank', 'NN'), ('syndicate', 'NN'), ('for', 'IN'), ('approval', 'NN'), (',', ','), ('probably', 'RB'), ('early', 'RB'), ('in', 'IN'), ('1997', 'CD'), ('.', '.')]\n",
      "SENTENCE: Monday's announcement followed two weeks of highly secretive negotiations between Eurotunnel and its six leading banks.\n",
      "POS_TAGS: [('Monday', 'NNP'), (\"'s\", 'POS'), ('announcement', 'NN'), ('followed', 'VBD'), ('two', 'CD'), ('weeks', 'NNS'), ('of', 'IN'), ('highly', 'RB'), ('secretive', 'JJ'), ('negotiations', 'NNS'), ('between', 'IN'), ('Eurotunnel', 'NNP'), ('and', 'CC'), ('its', 'PRP$'), ('six', 'CD'), ('leading', 'JJ'), ('banks', 'NNS'), ('.', '.')]\n",
      "SENTENCE: This was extended to the 24 \"instructing banks\" at a meeting late last week in London.\n",
      "POS_TAGS: [('This', 'DT'), ('was', 'VBD'), ('extended', 'VBN'), ('to', 'TO'), ('the', 'DT'), ('24', 'CD'), ('``', '``'), ('instructing', 'JJ'), ('banks', 'NNS'), (\"''\", \"''\"), ('at', 'IN'), ('a', 'DT'), ('meeting', 'NN'), ('late', 'JJ'), ('last', 'JJ'), ('week', 'NN'), ('in', 'IN'), ('London', 'NNP'), ('.', '.')]\n",
      "SENTENCE: Eurotunnel said the debt-for-equity swap would be at 130 pence, or 10.40 francs, per share.\n",
      "POS_TAGS: [('Eurotunnel', 'NNP'), ('said', 'VBD'), ('the', 'DT'), ('debt-for-equity', 'NN'), ('swap', 'NN'), ('would', 'MD'), ('be', 'VB'), ('at', 'IN'), ('130', 'CD'), ('pence', 'NN'), (',', ','), ('or', 'CC'), ('10.40', 'CD'), ('francs', 'NNS'), (',', ','), ('per', 'IN'), ('share', 'NN'), ('.', '.')]\n",
      "SENTENCE: That is considerably below the level of around 160 pence widely reported before announcement of the deal, and will reduce outstanding debt of 8.7 billion pounds ($13.6 billion) by 1.0 billion ($1.56 billion).\n",
      "POS_TAGS: [('That', 'DT'), ('is', 'VBZ'), ('considerably', 'RB'), ('below', 'IN'), ('the', 'DT'), ('level', 'NN'), ('of', 'IN'), ('around', 'IN'), ('160', 'CD'), ('pence', 'NN'), ('widely', 'RB'), ('reported', 'VBD'), ('before', 'IN'), ('announcement', 'NN'), ('of', 'IN'), ('the', 'DT'), ('deal', 'NN'), (',', ','), ('and', 'CC'), ('will', 'MD'), ('reduce', 'VB'), ('outstanding', 'JJ'), ('debt', 'NN'), ('of', 'IN'), ('8.7', 'CD'), ('billion', 'CD'), ('pounds', 'NNS'), ('(', '('), ('$', '$'), ('13.6', 'CD'), ('billion', 'CD'), (')', ')'), ('by', 'IN'), ('1.0', 'CD'), ('billion', 'CD'), ('(', '('), ('$', '$'), ('1.56', 'CD'), ('billion', 'CD'), (')', ')'), ('.', '.')]\n",
      "SENTENCE: The company said a further 3.7 billion pounds ($5.8 billion) of debt would be converted into new financial instruments and existing shareholders would be able to participate in this issue.\n",
      "POS_TAGS: [('The', 'DT'), ('company', 'NN'), ('said', 'VBD'), ('a', 'DT'), ('further', 'JJ'), ('3.7', 'CD'), ('billion', 'CD'), ('pounds', 'NNS'), ('(', '('), ('$', '$'), ('5.8', 'CD'), ('billion', 'CD'), (')', ')'), ('of', 'IN'), ('debt', 'NN'), ('would', 'MD'), ('be', 'VB'), ('converted', 'VBN'), ('into', 'IN'), ('new', 'JJ'), ('financial', 'JJ'), ('instruments', 'NNS'), ('and', 'CC'), ('existing', 'VBG'), ('shareholders', 'NNS'), ('would', 'MD'), ('be', 'VB'), ('able', 'JJ'), ('to', 'TO'), ('participate', 'VB'), ('in', 'IN'), ('this', 'DT'), ('issue', 'NN'), ('.', '.')]\n",
      "SENTENCE: If they choose not to take up free warrants entitling them to subscribe to this, Eurotunnel said shareholders' interests may be reduced further to just over 39 percent of the company by the end of December 2003.\n",
      "POS_TAGS: [('If', 'IN'), ('they', 'PRP'), ('choose', 'VBP'), ('not', 'RB'), ('to', 'TO'), ('take', 'VB'), ('up', 'RP'), ('free', 'JJ'), ('warrants', 'NNS'), ('entitling', 'VBG'), ('them', 'PRP'), ('to', 'TO'), ('subscribe', 'VB'), ('to', 'TO'), ('this', 'DT'), (',', ','), ('Eurotunnel', 'NNP'), ('said', 'VBD'), ('shareholders', 'NNS'), (\"'\", 'POS'), ('interests', 'NNS'), ('may', 'MD'), ('be', 'VB'), ('reduced', 'VBN'), ('further', 'JJ'), ('to', 'TO'), ('just', 'RB'), ('over', 'IN'), ('39', 'CD'), ('percent', 'NN'), ('of', 'IN'), ('the', 'DT'), ('company', 'NN'), ('by', 'IN'), ('the', 'DT'), ('end', 'NN'), ('of', 'IN'), ('December', 'NNP'), ('2003', 'CD'), ('.', '.')]\n",
      "SENTENCE: Eurotunnel's shares, which were suspended last week at 113.5 pence ahead of Monday's announcement, should resume trading on Tuesday, the company said.\n",
      "POS_TAGS: [('Eurotunnel', 'NNP'), (\"'s\", 'POS'), ('shares', 'NNS'), (',', ','), ('which', 'WDT'), ('were', 'VBD'), ('suspended', 'VBN'), ('last', 'JJ'), ('week', 'NN'), ('at', 'IN'), ('113.5', 'CD'), ('pence', 'NN'), ('ahead', 'RB'), ('of', 'IN'), ('Monday', 'NNP'), (\"'s\", 'POS'), ('announcement', 'NN'), (',', ','), ('should', 'MD'), ('resume', 'VB'), ('trading', 'VBG'), ('on', 'IN'), ('Tuesday', 'NNP'), (',', ','), ('the', 'DT'), ('company', 'NN'), ('said', 'VBD'), ('.', '.')]\n"
     ]
    }
   ],
   "source": [
    "for sentence, pos_tags in zip(sentences, pos_tags_sentences):\n",
    "    print(\"SENTENCE:\", sentence)\n",
    "    print(\"POS_TAGS:\", pos_tags)"
   ]
  },
  {
   "cell_type": "code",
   "execution_count": 12,
   "id": "4dff579f",
   "metadata": {},
   "outputs": [],
   "source": [
    "from nltk.chunk import ne_chunk"
   ]
  },
  {
   "cell_type": "code",
   "execution_count": 14,
   "id": "43760d51",
   "metadata": {},
   "outputs": [
    {
     "name": "stdout",
     "output_type": "stream",
     "text": [
      "SENTENCE: Anglo-French Channel Tunnel operator Eurotunnel Monday announced a deal giving its creditor banks 45.5 percent of the company in return for wiping out one billion pounds ($1.56 billion) of its debt.\n",
      "NAMED_ENTITIES: []\n",
      "SENTENCE: The long-awaited restructuring brings to an end months of wrangling between Eurotunnel and the 225 banks to which it owes nearly nine billion pounds ($14.1 billion).\n",
      "NAMED_ENTITIES: []\n",
      "SENTENCE: The deal, announced simultaneously in Paris and London, brings the company back from the brink of insolvency but leaves shareholders owning only 54.5 percent of the company.\n",
      "NAMED_ENTITIES: [('Paris', 'GPE'), ('London', 'GPE')]\n",
      "SENTENCE: \"The restructuring plan provides Eurotunnel with the medium-term financial stability to allow it to consolidate its substantial commercial achievements to date and to develop its operations,\" Eurotunnel co-chairman Alastair Morton said.\n",
      "NAMED_ENTITIES: [('Alastair Morton', 'PERSON')]\n",
      "SENTENCE: The firm was now making a profit before interest, he added.\n",
      "NAMED_ENTITIES: []\n",
      "SENTENCE: Although shareholders will see their interests diluted, they were offered the prospect of a brighter future after months of uncertainty while Eurotunnel wrestled to reduce crippling interest payments negotiated during the tunnel's construction.\n",
      "NAMED_ENTITIES: [('Eurotunnel', 'PERSON')]\n",
      "SENTENCE: Eurotunnel, which has taken around half the cross-Channel market from the European ferry companies, said a strong operating performance could allow it to pay its first dividend within the next 10 years.\n",
      "NAMED_ENTITIES: [('Eurotunnel', 'GPE'), ('European', 'GPE')]\n",
      "SENTENCE: French co-chairman Patrick Ponsolle said shareholders would have to be patient before they could reap the benefits of the company's success.\n",
      "NAMED_ENTITIES: [('French', 'GPE'), ('Patrick Ponsolle', 'PERSON')]\n",
      "SENTENCE: He called the debt restructuring plan \"an acceptable compromise\" for holders of Eurotunnel shares.\n",
      "NAMED_ENTITIES: [('Eurotunnel', 'GPE')]\n",
      "SENTENCE: The company said there was still considerable work to be done to finalise and agree on the details of the plan before it can be submitted to shareholders and the full 225 bank syndicate for approval, probably early in 1997.\n",
      "NAMED_ENTITIES: []\n",
      "SENTENCE: Monday's announcement followed two weeks of highly secretive negotiations between Eurotunnel and its six leading banks.\n",
      "NAMED_ENTITIES: []\n",
      "SENTENCE: This was extended to the 24 \"instructing banks\" at a meeting late last week in London.\n",
      "NAMED_ENTITIES: [('London', 'GPE')]\n",
      "SENTENCE: Eurotunnel said the debt-for-equity swap would be at 130 pence, or 10.40 francs, per share.\n",
      "NAMED_ENTITIES: [('Eurotunnel', 'PERSON')]\n",
      "SENTENCE: That is considerably below the level of around 160 pence widely reported before announcement of the deal, and will reduce outstanding debt of 8.7 billion pounds ($13.6 billion) by 1.0 billion ($1.56 billion).\n",
      "NAMED_ENTITIES: []\n",
      "SENTENCE: The company said a further 3.7 billion pounds ($5.8 billion) of debt would be converted into new financial instruments and existing shareholders would be able to participate in this issue.\n",
      "NAMED_ENTITIES: []\n",
      "SENTENCE: If they choose not to take up free warrants entitling them to subscribe to this, Eurotunnel said shareholders' interests may be reduced further to just over 39 percent of the company by the end of December 2003.\n",
      "NAMED_ENTITIES: [('Eurotunnel', 'PERSON')]\n",
      "SENTENCE: Eurotunnel's shares, which were suspended last week at 113.5 pence ahead of Monday's announcement, should resume trading on Tuesday, the company said.\n",
      "NAMED_ENTITIES: [('Eurotunnel', 'GPE')]\n"
     ]
    }
   ],
   "source": [
    "for sentence, tokens in zip(sentences, tokenized_sentences):\n",
    "    \n",
    "    pos_tags = pos_tag(tokens)\n",
    "    \n",
    "    named_entities_tree = ne_chunk(pos_tags)\n",
    "    \n",
    "    named_entities = []\n",
    "    \n",
    "    for entity in named_entities_tree:\n",
    "        \n",
    "        if isinstance(entity, nltk.Tree) and entity.label() in [\"PERSON\", \"GPE\"]:\n",
    "            \n",
    "            entity_name = \" \".join([word for word, _ in entity.leaves()])\n",
    "            entity_type = entity.label()\n",
    "            \n",
    "            named_entities.append((entity_name, entity_type))\n",
    "    \n",
    "    print(\"SENTENCE:\", sentence)\n",
    "    print(\"NAMED_ENTITIES:\", named_entities)\n"
   ]
  },
  {
   "cell_type": "code",
   "execution_count": null,
   "id": "587698cc",
   "metadata": {},
   "outputs": [],
   "source": []
  }
 ],
 "metadata": {
  "kernelspec": {
   "display_name": "Python 3",
   "language": "python",
   "name": "python3"
  },
  "language_info": {
   "codemirror_mode": {
    "name": "ipython",
    "version": 3
   },
   "file_extension": ".py",
   "mimetype": "text/x-python",
   "name": "python",
   "nbconvert_exporter": "python",
   "pygments_lexer": "ipython3",
   "version": "3.8.8"
  }
 },
 "nbformat": 4,
 "nbformat_minor": 5
}
